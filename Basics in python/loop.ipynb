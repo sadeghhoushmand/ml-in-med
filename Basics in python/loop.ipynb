{
 "cells": [
  {
   "cell_type": "code",
   "execution_count": 7,
   "metadata": {},
   "outputs": [
    {
     "name": "stdout",
     "output_type": "stream",
     "text": [
      "0\n",
      "1\n",
      "2\n",
      "3\n",
      "4\n",
      "5\n",
      "6\n",
      "7\n",
      "8\n",
      "9\n"
     ]
    }
   ],
   "source": [
    "### loop \n",
    "## for\n",
    "\n",
    "# Print 0, 1,2, ..., 10  range(0,10,1) = range(0,10) = range (10)\n",
    "for i in range(0,10,1):\n",
    "    print(i)"
   ]
  },
  {
   "cell_type": "code",
   "execution_count": 8,
   "metadata": {},
   "outputs": [
    {
     "name": "stdout",
     "output_type": "stream",
     "text": [
      "I\n",
      " \n",
      "L\n",
      "o\n",
      "v\n",
      "e\n",
      " \n",
      "P\n",
      "y\n",
      "t\n",
      "h\n",
      "o\n",
      "n\n"
     ]
    }
   ],
   "source": [
    "# loop in str\n",
    "m1 = \"I Love Python\"\n",
    "for char in m1:\n",
    "    print(char)"
   ]
  },
  {
   "cell_type": "code",
   "execution_count": 9,
   "metadata": {},
   "outputs": [
    {
     "name": "stdout",
     "output_type": "stream",
     "text": [
      "chair\n",
      "desk\n",
      "bed\n"
     ]
    }
   ],
   "source": [
    "## loop in list\n",
    "l1 = [\"chair\", \"desk\", \"bed\"]\n",
    "for staff in l1:\n",
    "    print(staff)\n",
    "    "
   ]
  },
  {
   "cell_type": "code",
   "execution_count": 14,
   "metadata": {},
   "outputs": [
    {
     "name": "stdout",
     "output_type": "stream",
     "text": [
      "0\n",
      "1\n",
      "2\n",
      "3\n",
      "4\n",
      "5\n",
      "6\n",
      "7\n",
      "8\n",
      "9\n",
      "end of while\n"
     ]
    }
   ],
   "source": [
    "## while\n",
    "i = 0 \n",
    "while (i<10):\n",
    "    print(i)\n",
    "    i+= 1\n",
    "\n",
    "else:\n",
    "    print(\"end of while\")\n",
    "    "
   ]
  },
  {
   "cell_type": "code",
   "execution_count": 20,
   "metadata": {},
   "outputs": [
    {
     "name": "stdout",
     "output_type": "stream",
     "text": [
      "7\n"
     ]
    }
   ],
   "source": [
    "## continue and break\n",
    "h=0\n",
    "for i in range(0,20):\n",
    "    if (i==7):\n",
    "        # continue\n",
    "        break\n",
    "    h+=1\n",
    "\n",
    "print(h)\n",
    "\n",
    "## continue interupts current state of loop\n",
    "## break terminates loop\n"
   ]
  },
  {
   "cell_type": "code",
   "execution_count": 21,
   "metadata": {},
   "outputs": [
    {
     "name": "stdout",
     "output_type": "stream",
     "text": [
      "0\n",
      "1000\n",
      "1\n",
      "1001\n",
      "2\n",
      "1002\n",
      "3\n",
      "1003\n",
      "4\n",
      "1004\n",
      "5\n",
      "1005\n",
      "6\n",
      "1006\n",
      "7\n",
      "1007\n",
      "8\n",
      "1008\n",
      "9\n",
      "1009\n"
     ]
    }
   ],
   "source": [
    "## difference between counter in for and while loop\n",
    "## dont play with counter in for \n",
    "for i in range(10):\n",
    "\n",
    "    print(i)\n",
    "    i+=1000\n",
    "    print(i)"
   ]
  },
  {
   "cell_type": "code",
   "execution_count": 22,
   "metadata": {},
   "outputs": [
    {
     "name": "stdout",
     "output_type": "stream",
     "text": [
      "0\n",
      "1000\n"
     ]
    }
   ],
   "source": [
    "## difference between counter in for and while loop\n",
    "i=0\n",
    "while (i<10):\n",
    "  print(i)\n",
    "  i+=1000\n",
    "  print(i)"
   ]
  },
  {
   "cell_type": "code",
   "execution_count": null,
   "metadata": {},
   "outputs": [],
   "source": []
  }
 ],
 "metadata": {
  "kernelspec": {
   "display_name": "Python 3.9.15 ('Deepcls')",
   "language": "python",
   "name": "python3"
  },
  "language_info": {
   "codemirror_mode": {
    "name": "ipython",
    "version": 3
   },
   "file_extension": ".py",
   "mimetype": "text/x-python",
   "name": "python",
   "nbconvert_exporter": "python",
   "pygments_lexer": "ipython3",
   "version": "3.9.15"
  },
  "orig_nbformat": 4,
  "vscode": {
   "interpreter": {
    "hash": "44875976e7517052b86f01ede83136d6f2173c37ca755e5a9f350b3a1fa36fc3"
   }
  }
 },
 "nbformat": 4,
 "nbformat_minor": 2
}
