{
 "cells": [
  {
   "cell_type": "code",
   "execution_count": 11,
   "metadata": {},
   "outputs": [
    {
     "name": "stdout",
     "output_type": "stream",
     "text": [
      "['case', 'PC', 'mouse', 'keyboard']\n",
      "['case', 'Laptop', 'mouse', 'keyboard']\n",
      "['case', 'mouse', 'keyboard']\n",
      "['case', 'mouse']\n"
     ]
    }
   ],
   "source": [
    "## list\n",
    "\n",
    "staff = [\"case\",\"mouse\",\"keyboard\"]\n",
    "         # 0       1        2 \n",
    "         # -3      -2       -1\n",
    "\n",
    "## show elements\n",
    "# print(staff[0:2])\n",
    "\n",
    "## insert\n",
    "staff.insert(1,\"PC\")\n",
    "print(staff)\n",
    "\n",
    "## edit\n",
    "staff[1] = \"Laptop\"\n",
    "print(staff)\n",
    "\n",
    "##remove\n",
    "\n",
    "staff.remove(\"Laptop\")\n",
    "print(staff)\n",
    "\n",
    "## del : delete element by indexing\n",
    "# del staff[-1]\n",
    "# print(staff)\n",
    "\n",
    "### pop : remove last element of list\n",
    "staff.pop()\n",
    "print(staff)\n",
    "\n",
    "\n",
    "\n"
   ]
  },
  {
   "cell_type": "code",
   "execution_count": 13,
   "metadata": {},
   "outputs": [
    {
     "name": "stdout",
     "output_type": "stream",
     "text": [
      "l1 is :  [1, 2, 3]\n",
      "l1copy is :  [1, 2, 3]\n",
      "l2  is :  [1, 2, 3, 4]\n"
     ]
    }
   ],
   "source": [
    "## call by ref or value\n",
    "l1 = [1,2,3,4]\n",
    "# call by refrence\n",
    "l1copy = l1\n",
    "#call by value\n",
    "l2 = l1.copy()\n",
    "\n",
    "l1.pop() #remove last element of l1\n",
    "print(\"l1 is : \", l1)\n",
    "\n",
    "print(\"l1copy is : \", l1copy)\n",
    "\n",
    "print(\"l2  is : \", l2)\n",
    "\n"
   ]
  },
  {
   "cell_type": "code",
   "execution_count": 17,
   "metadata": {},
   "outputs": [
    {
     "name": "stdout",
     "output_type": "stream",
     "text": [
      "[6, 6, 5, 4, 3, 2]\n"
     ]
    }
   ],
   "source": [
    "l1 = [1,2,3,4]\n",
    "l2 = [1,2,3]\n",
    "\n",
    "## join\n",
    "# l3 = l1+l2\n",
    "# l1.extend(l2)\n",
    "# print(l1)\n",
    "\n",
    "##sort and reverse \n",
    "\n",
    "rlist = [4,5,6,2,6,3]\n",
    "rlist.sort()\n",
    "rlist.reverse()\n",
    "print(rlist)\n"
   ]
  },
  {
   "cell_type": "code",
   "execution_count": 28,
   "metadata": {},
   "outputs": [
    {
     "name": "stdout",
     "output_type": "stream",
     "text": [
      "('a', 'b', 'c', 'a')\n",
      "('a', 'b', 'c', 'a', 'a', 'b', 'c', 'a')\n"
     ]
    }
   ],
   "source": [
    "## TUPLE\n",
    "t1 = (\"a\",\"b\",\"c\",\"a\")\n",
    "print((t1))\n",
    "# tuple to list\n",
    "l_t1 = list(t1)\n",
    "l_t1[3] = \"e\"\n",
    "## join \n",
    "t2 = t1+t1\n",
    "print(t2)"
   ]
  },
  {
   "cell_type": "code",
   "execution_count": 35,
   "metadata": {},
   "outputs": [
    {
     "name": "stdout",
     "output_type": "stream",
     "text": [
      "{'date', 'subject', 'title', 'author', 'content'}\n",
      "{'date', 'subject', 'title', 'author', 'content'}\n",
      "{'date', 'subject', 1, 2, 'title', 3, 4, 5, 6, 'author', 7, 8, 9, 10, 'content'}\n"
     ]
    },
    {
     "data": {
      "text/plain": [
       "15"
      ]
     },
     "execution_count": 35,
     "metadata": {},
     "output_type": "execute_result"
    }
   ],
   "source": [
    "## SETS\n",
    "temp_set = {\"title\",\"author\",\"date\",\"subject\"}\n",
    "# print(temp_set)\n",
    "\n",
    "## add\n",
    "temp_set.add(\"content\")\n",
    "print(temp_set)\n",
    "temp_set.add(\"title\")\n",
    "print(temp_set)\n",
    "\n",
    "## add multiple items to set, should pass as list, cant pass value\n",
    "temp_set.update([1,2,3,4,5,6,7,8,9,10])\n",
    "print(temp_set)\n",
    "\n",
    "## len  can be used in list and tuple\n",
    "len(temp_set)"
   ]
  },
  {
   "cell_type": "code",
   "execution_count": 39,
   "metadata": {},
   "outputs": [
    {
     "name": "stdout",
     "output_type": "stream",
     "text": [
      "{'brand': 'Ford', 'model': 'Mustang', 'year': 1964}\n",
      "Mustang\n",
      "{'name': 'Ali', 'family': 'Saffar', 'city': 'Ahwaz'}\n"
     ]
    }
   ],
   "source": [
    "### Dictionary\n",
    "# key : value\n",
    "car_dict = {\n",
    "    \"brand\" : \"Ford\",\n",
    "    \"model\" : \"Mustang\",\n",
    "    \"year\"  : 1964\n",
    "\n",
    "}\n",
    "print(car_dict)\n",
    "\n",
    "## get value\n",
    "x = car_dict.get(\"model\")\n",
    "print(x)\n",
    "## len \n",
    "len(car_dict)\n",
    "## update\n",
    "d1 = {\n",
    "    \"name\" : \"Mohsen\",\n",
    "    \"family\" : \"Saffar\",\n",
    "}\n",
    "d2 = {\n",
    "    \"name\" : \"Ali\",\n",
    "    \"city\" : \"Ahwaz\",\n",
    "\n",
    "}\n",
    "\n",
    "d1.update(d2)\n",
    "print(d1)\n",
    "\n"
   ]
  },
  {
   "cell_type": "code",
   "execution_count": null,
   "metadata": {},
   "outputs": [],
   "source": []
  }
 ],
 "metadata": {
  "kernelspec": {
   "display_name": "Python 3.9.15 ('Deepcls')",
   "language": "python",
   "name": "python3"
  },
  "language_info": {
   "codemirror_mode": {
    "name": "ipython",
    "version": 3
   },
   "file_extension": ".py",
   "mimetype": "text/x-python",
   "name": "python",
   "nbconvert_exporter": "python",
   "pygments_lexer": "ipython3",
   "version": "3.9.15"
  },
  "orig_nbformat": 4,
  "vscode": {
   "interpreter": {
    "hash": "44875976e7517052b86f01ede83136d6f2173c37ca755e5a9f350b3a1fa36fc3"
   }
  }
 },
 "nbformat": 4,
 "nbformat_minor": 2
}
