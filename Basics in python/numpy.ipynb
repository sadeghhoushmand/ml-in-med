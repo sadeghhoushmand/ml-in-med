{
 "cells": [
  {
   "cell_type": "code",
   "execution_count": 11,
   "metadata": {},
   "outputs": [
    {
     "name": "stdout",
     "output_type": "stream",
     "text": [
      "[[1 2 3]\n",
      " [4 5 6]]\n"
     ]
    }
   ],
   "source": [
    "###Numpy\n",
    "l1 = [1,2,3,4,5]\n",
    "import numpy as np\n",
    "### define a 1-D array in numpy\n",
    "\n",
    "arr1 = np.array(l1)\n",
    "arr2 = np.array([1,2,3,4,5])\n",
    "# print(arr1)\n",
    "# print(arr2)\n",
    "\n",
    "## define 2-D array\n",
    "# l1 = [1,2,3]\n",
    "# l11 = [4,5,6]\n",
    "# l2 = [l1,l11]\n",
    "# print(type(l2[1]))\n",
    "# arr2 = np.array(l2)\n",
    "\n",
    "arr2 = np.array([[1,2,3],[4,5,6]])\n",
    "print(arr2)\n",
    "\n",
    "\n",
    "# define 3-D array\n",
    "l3 = [[[1,2,3],[4,5,6]],[[1,2,3],[4,5,6]]]\n",
    "arr3 = np.array(l3)\n",
    "\n",
    "\n",
    "\n",
    "\n"
   ]
  },
  {
   "cell_type": "code",
   "execution_count": 30,
   "metadata": {},
   "outputs": [
    {
     "name": "stdout",
     "output_type": "stream",
     "text": [
      "2\n"
     ]
    },
    {
     "data": {
      "text/plain": [
       "5"
      ]
     },
     "execution_count": 30,
     "metadata": {},
     "output_type": "execute_result"
    }
   ],
   "source": [
    "\n",
    "import numpy as np \n",
    "arr1 = np.array([1,  2,  3,  4,  5])\n",
    "#                0,  1,  2,  3   4\n",
    "#                -5, -4,-3, -2, -1\n",
    "arr2 = np.array([[1,2,3],[4,5,6]])\n",
    "l3 = [[[1,2,3],[4,5,6]],[[1,2,3],[4,5,6]]]\n",
    "arr3 = np.array(l3)\n",
    "### shape of an array\n",
    "# print(np.shape(arr3))\n",
    "### check number of dim\n",
    "# print(arr2.ndim)\n",
    "# print(arr3)\n",
    "\n",
    "### access the elements of a 1-D array\n",
    "# print(arr1[0])\n",
    "# print(arr1[4])\n",
    "# print(arr1[-1])\n",
    "# print(arr1[2]+arr1[3])\n",
    "\n",
    "### access the elements of a 2-D array\n",
    "arr2 = np.array([[1,2,3],[4,5,6]])\n",
    "# print(arr2[1,2])\n",
    "\n",
    "\n",
    "### access the elements of a 3-D array\n",
    "l3 = [[[1,2,3],[4,5,6]],[[1,2,3],[4,5,6]]]\n",
    "arr3 = np.array(l3)  #0,1,1\n",
    "arr3[0,-1,-2] \n",
    "# arr3[0,1,1] the same result\n",
    "\n",
    "\n",
    "\n",
    " \n",
    "\n"
   ]
  },
  {
   "cell_type": "code",
   "execution_count": 42,
   "metadata": {},
   "outputs": [
    {
     "name": "stdout",
     "output_type": "stream",
     "text": [
      "[1 3 5 7]\n",
      "[7 8 9]\n",
      "(2, 5)\n",
      "2\n"
     ]
    }
   ],
   "source": [
    "### slice an array\n",
    "import numpy as np\n",
    "arr = np.array([1,2,3,4,5,6,7])\n",
    "\n",
    "# print(arr[1:5])\n",
    "# print(arr[4:]) # 4th element until final element\n",
    "# print(arr[:4])\n",
    "# print(arr[1:5:2])\n",
    "print(arr[::2])\n",
    "\n",
    "arr1 = np.array([[1,2,3,4,5],[6,7,8,9,10]])\n",
    "print(arr1[1,1:4])\n",
    "print(np.shape(arr1))\n",
    "print(arr1.ndim)\n"
   ]
  },
  {
   "cell_type": "code",
   "execution_count": 24,
   "metadata": {},
   "outputs": [
    {
     "name": "stdout",
     "output_type": "stream",
     "text": [
      "(1, 5)\n",
      "(5, 1)\n"
     ]
    }
   ],
   "source": [
    "##  define 1*5 array and 5*1 array\n",
    "a11 = np.array([[1,2,3,4,5]])\n",
    "a1 = np.array([[1],[2],[3],[4],[5]])\n",
    "print(np.shape(a11))\n",
    "print(np.shape(a1))"
   ]
  },
  {
   "cell_type": "code",
   "execution_count": 46,
   "metadata": {},
   "outputs": [
    {
     "name": "stdout",
     "output_type": "stream",
     "text": [
      "[[0 2 3 4 5]]\n",
      "[[1 2 3 4 5]]\n",
      "[[0 2 3 4 5]]\n"
     ]
    }
   ],
   "source": [
    "### call by value and call by ref in numpy array\n",
    "arr1 = np.array([[1,2,3,4,5]])\n",
    "arr2 = np.array(arr1)  # arr2 = arr1.copy()\n",
    "arr3 = np.asarray(arr1) # occupies the same memory arr1.view()\n",
    "arr1[0,0] = 0\n",
    "print(arr1)\n",
    "print(arr2)\n",
    "print(arr3)\n"
   ]
  },
  {
   "cell_type": "code",
   "execution_count": null,
   "metadata": {},
   "outputs": [],
   "source": []
  }
 ],
 "metadata": {
  "kernelspec": {
   "display_name": "Python 3.9.15 ('Deepcls')",
   "language": "python",
   "name": "python3"
  },
  "language_info": {
   "codemirror_mode": {
    "name": "ipython",
    "version": 3
   },
   "file_extension": ".py",
   "mimetype": "text/x-python",
   "name": "python",
   "nbconvert_exporter": "python",
   "pygments_lexer": "ipython3",
   "version": "3.9.15"
  },
  "orig_nbformat": 4,
  "vscode": {
   "interpreter": {
    "hash": "44875976e7517052b86f01ede83136d6f2173c37ca755e5a9f350b3a1fa36fc3"
   }
  }
 },
 "nbformat": 4,
 "nbformat_minor": 2
}
