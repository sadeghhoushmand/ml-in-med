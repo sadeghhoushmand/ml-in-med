{
 "cells": [
  {
   "cell_type": "code",
   "execution_count": 2,
   "metadata": {},
   "outputs": [
    {
     "name": "stdout",
     "output_type": "stream",
     "text": [
      "car : optima\n",
      "model : sedan\n",
      "year : 2022\n",
      "company : KIA\n",
      "country : Korea\n"
     ]
    }
   ],
   "source": [
    "# def func_name(input1,input2,...):\n",
    "    # ...\n",
    "    # ...\n",
    "    # ...\n",
    "    # return nameofoutput\n",
    "\n",
    "#usage\n",
    "# function_name(input1, ...)\n",
    "\n",
    "def Show_info(car,model,year,company,country):\n",
    "    print(\"car :\", car)\n",
    "    print(\"model :\", model)\n",
    "    print(\"year :\", year)\n",
    "    print(\"company :\", company)\n",
    "    print(\"country :\", country)\n",
    "\n",
    "# call show_info_function\n",
    "Show_info(\"optima\",\"sedan\", \"2022\", \"KIA\", \"Korea\")\n"
   ]
  },
  {
   "cell_type": "code",
   "execution_count": 6,
   "metadata": {},
   "outputs": [
    {
     "name": "stdout",
     "output_type": "stream",
     "text": [
      "car : optima\n",
      "model : sedan\n",
      "year : 2022\n",
      "company : KIA\n",
      "country : Korea\n"
     ]
    }
   ],
   "source": [
    "## function with default inputs\n",
    "\n",
    "def Show_info_default(car,model,year,company,country = \"Korea\"):\n",
    "    print(\"car :\", car)\n",
    "    print(\"model :\", model)\n",
    "    print(\"year :\", year)\n",
    "    print(\"company :\", company)\n",
    "    print(\"country :\", country)\n",
    "\n",
    "# call show_info_function\n",
    "Show_info_default(\"optima\",\"sedan\", \"2022\", \"KIA\")"
   ]
  },
  {
   "cell_type": "code",
   "execution_count": 7,
   "metadata": {},
   "outputs": [
    {
     "name": "stdout",
     "output_type": "stream",
     "text": [
      "('I', 'You', 'We')\n"
     ]
    }
   ],
   "source": [
    "### how many inputs??\n",
    "def show_char(*args):\n",
    "    print(args)\n",
    "\n",
    "show_char(\"I\",\"You\",\"We\")"
   ]
  },
  {
   "cell_type": "code",
   "execution_count": 8,
   "metadata": {},
   "outputs": [
    {
     "name": "stdout",
     "output_type": "stream",
     "text": [
      "35\n"
     ]
    }
   ],
   "source": [
    "### lambda\n",
    "\n",
    "## define a func with lambda which compute sum of 3 numbers\n",
    "\n",
    "x = lambda a,b,c: a+b+c\n",
    "\n",
    "print(x(10,10,15))\n",
    "\n"
   ]
  },
  {
   "cell_type": "code",
   "execution_count": 12,
   "metadata": {},
   "outputs": [
    {
     "name": "stdout",
     "output_type": "stream",
     "text": [
      "2.0\n",
      "3.0\n",
      "3.0\n"
     ]
    }
   ],
   "source": [
    "### use of lambda in a function\n",
    "from math import pow\n",
    "def root_calc(n):\n",
    "    return lambda a: pow(a,1/n)\n",
    "\n",
    "def root_calc1(input,root):\n",
    "    return pow(input,1/root)\n",
    "\n",
    "\n",
    "r2 = root_calc(2)\n",
    "print(r2(4))\n",
    "r3 = root_calc(3)\n",
    "print(r3(27))\n",
    "print(root_calc1(27,3))\n"
   ]
  },
  {
   "cell_type": "code",
   "execution_count": null,
   "metadata": {},
   "outputs": [],
   "source": []
  }
 ],
 "metadata": {
  "kernelspec": {
   "display_name": "Python 3.9.15 ('Deepcls')",
   "language": "python",
   "name": "python3"
  },
  "language_info": {
   "codemirror_mode": {
    "name": "ipython",
    "version": 3
   },
   "file_extension": ".py",
   "mimetype": "text/x-python",
   "name": "python",
   "nbconvert_exporter": "python",
   "pygments_lexer": "ipython3",
   "version": "3.9.15"
  },
  "orig_nbformat": 4,
  "vscode": {
   "interpreter": {
    "hash": "44875976e7517052b86f01ede83136d6f2173c37ca755e5a9f350b3a1fa36fc3"
   }
  }
 },
 "nbformat": 4,
 "nbformat_minor": 2
}
