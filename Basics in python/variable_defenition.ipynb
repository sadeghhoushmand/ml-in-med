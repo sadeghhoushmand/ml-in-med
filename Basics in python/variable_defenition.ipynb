{
 "cells": [
  {
   "cell_type": "code",
   "execution_count": 8,
   "metadata": {},
   "outputs": [
    {
     "name": "stdout",
     "output_type": "stream",
     "text": [
      "There once was a man named Tom,\n",
      "he was 35 years old.\n",
      "He really liked the name Tom,\n",
      "But didn't like being 35.\n"
     ]
    }
   ],
   "source": [
    "## variable introduction\n",
    "\n",
    "ch_name = \"Tom\"\n",
    "ch_age = \"35\"\n",
    "\n",
    "print(\"There once was a man named \" + ch_name + \",\") \n",
    "print('he was ' + ch_age + ' years old.')\n",
    "print(\"He really liked the name \" + ch_name + \",\")\n",
    "print(\"But didn't like being \" + ch_age +\".\")\n"
   ]
  },
  {
   "cell_type": "code",
   "execution_count": 10,
   "metadata": {},
   "outputs": [
    {
     "name": "stdout",
     "output_type": "stream",
     "text": [
      "There once was a man named Tom,\n",
      "he was  35  years old.\n",
      "He really liked the name Tom,\n",
      "But didn't like being  35 .\n"
     ]
    }
   ],
   "source": [
    "ch_name = \"Tom\"\n",
    "ch_age = 35\n",
    "\n",
    "print(\"There once was a man named \" + ch_name + \",\") \n",
    "print('he was ', ch_age, ' years old.')\n",
    "print(\"He really liked the name \" + ch_name + \",\")\n",
    "print(\"But didn't like being \", ch_age ,\".\")"
   ]
  },
  {
   "cell_type": "code",
   "execution_count": 12,
   "metadata": {},
   "outputs": [
    {
     "name": "stdout",
     "output_type": "stream",
     "text": [
      "Python Programming\n",
      "<class 'str'>\n"
     ]
    }
   ],
   "source": [
    "x1 = 'Python Programming'\n",
    "print(x1)\n",
    "print(type(x1))"
   ]
  },
  {
   "cell_type": "code",
   "execution_count": 18,
   "metadata": {},
   "outputs": [
    {
     "name": "stdout",
     "output_type": "stream",
     "text": [
      "5\n",
      "Python Programming\n"
     ]
    }
   ],
   "source": [
    "## input\n",
    "x2 = input(\"Enter your number\")\n",
    "x2 = int(x2)\n",
    "# print(x2+10)\n",
    "print(x2)\n",
    "print(x1)"
   ]
  },
  {
   "cell_type": "code",
   "execution_count": null,
   "metadata": {},
   "outputs": [],
   "source": []
  }
 ],
 "metadata": {
  "kernelspec": {
   "display_name": "Python 3.9.15 ('Deepcls')",
   "language": "python",
   "name": "python3"
  },
  "language_info": {
   "codemirror_mode": {
    "name": "ipython",
    "version": 3
   },
   "file_extension": ".py",
   "mimetype": "text/x-python",
   "name": "python",
   "nbconvert_exporter": "python",
   "pygments_lexer": "ipython3",
   "version": "3.9.15"
  },
  "orig_nbformat": 4,
  "vscode": {
   "interpreter": {
    "hash": "44875976e7517052b86f01ede83136d6f2173c37ca755e5a9f350b3a1fa36fc3"
   }
  }
 },
 "nbformat": 4,
 "nbformat_minor": 2
}
