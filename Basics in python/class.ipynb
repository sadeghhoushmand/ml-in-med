{
 "cells": [
  {
   "cell_type": "code",
   "execution_count": 2,
   "metadata": {},
   "outputs": [
    {
     "name": "stdout",
     "output_type": "stream",
     "text": [
      "Hello\n"
     ]
    }
   ],
   "source": [
    "### Class \n",
    "\n",
    "### state : it is represented by the attribute of object. reflect properties\n",
    "### Behaviour: it is represented by the methods of an object. reflect responce object to other\n",
    "#objects\n",
    "### identity : unique name to an object, enable to interact with other objects.\n",
    "### defs in class are called methods\n",
    "### variables in __init__ func are attributes\n",
    "class person:\n",
    "    \"This is a person class\"\n",
    "    age = 10\n",
    "    def greet(self):\n",
    "        print(\"Hello\")\n",
    "\n",
    "harry = person()\n",
    "harry.greet()"
   ]
  },
  {
   "cell_type": "code",
   "execution_count": 14,
   "metadata": {},
   "outputs": [
    {
     "name": "stdout",
     "output_type": "stream",
     "text": [
      "2+3j\n",
      "2+0j\n",
      "2 0 Positive\n"
     ]
    },
    {
     "ename": "AttributeError",
     "evalue": "'ComplexNumber' object has no attribute 'sign'",
     "output_type": "error",
     "traceback": [
      "\u001b[1;31m---------------------------------------------------------------------------\u001b[0m",
      "\u001b[1;31mAttributeError\u001b[0m                            Traceback (most recent call last)",
      "Cell \u001b[1;32mIn [14], line 17\u001b[0m\n\u001b[0;32m     15\u001b[0m num2\u001b[39m.\u001b[39msign \u001b[39m=\u001b[39m \u001b[39m\"\u001b[39m\u001b[39mPositive\u001b[39m\u001b[39m\"\u001b[39m\n\u001b[0;32m     16\u001b[0m \u001b[39mprint\u001b[39m(num2\u001b[39m.\u001b[39mreal,num2\u001b[39m.\u001b[39mimag, num2\u001b[39m.\u001b[39msign)\n\u001b[1;32m---> 17\u001b[0m \u001b[39mprint\u001b[39m(num1\u001b[39m.\u001b[39mreal,num1\u001b[39m.\u001b[39mimag, num1\u001b[39m.\u001b[39;49msign)\n",
      "\u001b[1;31mAttributeError\u001b[0m: 'ComplexNumber' object has no attribute 'sign'"
     ]
    }
   ],
   "source": [
    "### class complex numbers a+bj a+bi\n",
    "\n",
    "class ComplexNumber:\n",
    "    def __init__(self,r=0,i=0):\n",
    "        self.real = r\n",
    "        self.imag = i\n",
    "    def get_data(self):\n",
    "        print(f'{self.real}+{self.imag}j')\n",
    "\n",
    "# print(f'') python\n",
    "num1 = ComplexNumber(2,3)\n",
    "num1.get_data()\n",
    "x2 = 5\n",
    "num2 = ComplexNumber(2)\n",
    "num2.get_data()\n",
    "num2.sign = \"Positive\"\n",
    "print(num2.real,num2.imag, num2.sign)\n",
    "print(num1.real,num1.imag, num1.sign)\n",
    "\n",
    "\n"
   ]
  },
  {
   "cell_type": "code",
   "execution_count": 17,
   "metadata": {},
   "outputs": [
    {
     "name": "stdout",
     "output_type": "stream",
     "text": [
      "I can bark\n",
      "I can eat\n"
     ]
    }
   ],
   "source": [
    "### Inharitance\n",
    "class Animal: # base (parent) class\n",
    "    def eat(self):\n",
    "        print(\"I can eat\")\n",
    "\n",
    "\n",
    "class Dog(Animal):\n",
    "    def bark(self):\n",
    "        print(\"I can bark\")\n",
    "\n",
    "# class Dog():\n",
    "#     def eat(self):\n",
    "#         print(\"I can eat\")    \n",
    "#     def bark(self):\n",
    "#         print(\"I can bark\")        \n",
    "\n",
    "dog1 = Dog()\n",
    "\n",
    "dog1.bark()\n",
    "dog1.eat()"
   ]
  },
  {
   "cell_type": "code",
   "execution_count": null,
   "metadata": {},
   "outputs": [],
   "source": []
  }
 ],
 "metadata": {
  "kernelspec": {
   "display_name": "Python 3.9.15 ('Deepcls')",
   "language": "python",
   "name": "python3"
  },
  "language_info": {
   "codemirror_mode": {
    "name": "ipython",
    "version": 3
   },
   "file_extension": ".py",
   "mimetype": "text/x-python",
   "name": "python",
   "nbconvert_exporter": "python",
   "pygments_lexer": "ipython3",
   "version": "3.9.15"
  },
  "orig_nbformat": 4,
  "vscode": {
   "interpreter": {
    "hash": "44875976e7517052b86f01ede83136d6f2173c37ca755e5a9f350b3a1fa36fc3"
   }
  }
 },
 "nbformat": 4,
 "nbformat_minor": 2
}
